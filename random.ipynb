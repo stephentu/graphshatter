{
 "metadata": {
  "name": "",
  "signature": "sha256:200533078bc810fa61fd86810043e0ac325c0cc55a5333c654bbaf8adda5a01b"
 },
 "nbformat": 3,
 "nbformat_minor": 0,
 "worksheets": [
  {
   "cells": [
    {
     "cell_type": "heading",
     "level": 2,
     "metadata": {},
     "source": [
      "Connected components of random induced subgraphs"
     ]
    },
    {
     "cell_type": "markdown",
     "metadata": {},
     "source": [
      "A [recent result](http://arxiv.org/abs/1404.5731) of Krivelevich states the following:\n",
      "\n",
      "**Theorem:** Let $\\epsilon > 0$ and $G = (V,E)$ be an undirected graph such that $|V|=n$ and the maximum degree in $G$ is at most $d$. Let $R \\subseteq V$ be a random subset formed by picking every $v \\in V$ iid with probability $p=\\frac{1-\\epsilon}{d}$. Then *all* connected components of the induced subgraph $G[R]$ have size at most $\\frac{4}{\\epsilon^2} \\log{n}$ w.h.p. \n",
      "\n",
      "This is a very neat result. As a special case, let $\\epsilon = 1/2$. Then our sampling probability is $p=\\frac{1}{2d}$ and our bound is $16\\log{n}$. \n",
      "\n",
      "Let us look at some special cases. In case where $d = O(n)$, we can use a Chernoff bound to control the size of the largest connected component. One particular form is if $X_i$ is iid from a Bernoulli distribution with probability $p$, then for any $t \\geq 2 e p n$, we have $P(\\sum_{i=1}^{n} X_i \\geq t ) \\leq 2^{-t}$. In this case, we have our sampling $p = O(1/n)$, and our Chernoff bound tells us that $\\sum_{i=1}^{n} X_i \\leq O(1)$ w.h.p. So the bound is quite loose in this case. \n",
      "\n",
      "A less trivial case is when $d = O(1)$, in which case we have that $\\mathbb{E}[|R|] = O(n)$. Consider the case when $G$ is simply a straight line (clearly $d=1$). Then this theorem tells us that any random choice of some constant fraction of the vertices will contain $O(n/\\log{n})$ disjoint pieces. \n",
      "\n",
      "Alright, let's see this thing in action."
     ]
    },
    {
     "cell_type": "heading",
     "level": 3,
     "metadata": {},
     "source": [
      "Simulation"
     ]
    },
    {
     "cell_type": "code",
     "collapsed": false,
     "input": [
      "%matplotlib inline\n",
      "import numpy as np\n",
      "import operator as op\n",
      "import matplotlib.pylab as plt\n",
      "\n",
      "from scipy.sparse import coo_matrix\n",
      "from scipy.sparse.csgraph import connected_components"
     ],
     "language": "python",
     "metadata": {},
     "outputs": [],
     "prompt_number": 1
    },
    {
     "cell_type": "code",
     "collapsed": false,
     "input": [
      "def randomgraph(n, e):\n",
      "    \"\"\"Create a random graph with n vertices and at most e edges,\n",
      "    where each edge e is chosen uniformly from |V| x |V| \n",
      "    with replacement.\n",
      "    \n",
      "    Returns a sparse binary matrix representing the adjacency\n",
      "    matrix of the graph\n",
      "    \n",
      "    \"\"\"\n",
      "    \n",
      "    rowinds = np.random.randint(low=0, high=n, size=e)\n",
      "    colinds = np.random.randint(low=0, high=n, size=e)\n",
      "    \n",
      "    return coo_matrix(\n",
      "        (np.ones(2 * e, dtype=np.bool), \n",
      "         (np.hstack((rowinds, colinds)), \n",
      "          np.hstack((colinds, rowinds)))), \n",
      "        shape=(n, n), \n",
      "        dtype=np.bool).tocsr()"
     ],
     "language": "python",
     "metadata": {},
     "outputs": [],
     "prompt_number": 2
    },
    {
     "cell_type": "code",
     "collapsed": false,
     "input": [
      "def maxdeg(g):\n",
      "    return g.sum(axis=0).max()"
     ],
     "language": "python",
     "metadata": {},
     "outputs": [],
     "prompt_number": 3
    },
    {
     "cell_type": "code",
     "collapsed": false,
     "input": [
      "def subgraph(g, p):\n",
      "    \"\"\"Create a random subgraph by including each\n",
      "    vertex independently with probability p\n",
      "    \n",
      "    \"\"\"\n",
      "    inds = np.random.random(g.shape[0]) <= p\n",
      "    return g[inds][:, inds]"
     ],
     "language": "python",
     "metadata": {},
     "outputs": [],
     "prompt_number": 4
    },
    {
     "cell_type": "code",
     "collapsed": false,
     "input": [
      "def prob(g, eps):\n",
      "    \"\"\"\n",
      "    (1-eps)/maxdeg(g)\n",
      "    \"\"\"\n",
      "    if eps <= 0. or eps >= 1.:\n",
      "        raise ValueError(\"eps needs to be in (0, 1)\")\n",
      "    return (1. - eps)/maxdeg(g)"
     ],
     "language": "python",
     "metadata": {},
     "outputs": [],
     "prompt_number": 5
    },
    {
     "cell_type": "code",
     "collapsed": false,
     "input": [
      "def samplesubsets(g, eps, n):\n",
      "    \"\"\"Given a graph g, generate n random subgraphs\n",
      "    and for each subgraph report the size of the\n",
      "    largest connected component\n",
      "    \n",
      "    \"\"\"\n",
      "    d = maxdeg(g)\n",
      "    p = prob(g, eps)\n",
      "    def dosample(g, eps):\n",
      "        while 1:\n",
      "            sg = subgraph(g, p)\n",
      "            if sg.shape[0] == 0:\n",
      "                continue\n",
      "            _, labels = connected_components(sg, directed=False)\n",
      "            return sg.shape[0], np.bincount(labels).max()\n",
      "    return [dosample(g, eps) for _ in xrange(n)]"
     ],
     "language": "python",
     "metadata": {},
     "outputs": [],
     "prompt_number": 6
    },
    {
     "cell_type": "code",
     "collapsed": false,
     "input": [
      "E = 100000\n",
      "Vs = [1000, 10000, 100000, 1000000]\n",
      "graphs = [randomgraph(V, E) for V in Vs]"
     ],
     "language": "python",
     "metadata": {},
     "outputs": [],
     "prompt_number": 7
    },
    {
     "cell_type": "code",
     "collapsed": false,
     "input": [
      "samples = [samplesubsets(g, 0.5, 1000) for g in graphs]"
     ],
     "language": "python",
     "metadata": {},
     "outputs": [],
     "prompt_number": 8
    },
    {
     "cell_type": "code",
     "collapsed": false,
     "input": [
      "for V, s in zip(Vs, samples):\n",
      "    n, bins, patches = plt.hist(map(op.itemgetter(1), s), 10)\n",
      "    plt.title('V={}, r={}'.format(V, float(E)/float(V * V)))\n",
      "    plt.xlabel('Max CC size')\n",
      "    upper_limit = 16. * np.log(V)\n",
      "    plt.plot([upper_limit, upper_limit], [0, 1000], '--')\n",
      "    plt.show()"
     ],
     "language": "python",
     "metadata": {},
     "outputs": [
      {
       "metadata": {},
       "output_type": "display_data",
       "png": "[encoded data removed]",
       "text": [
        "<matplotlib.figure.Figure at 0x7f6439715350>"
       ]
      },
      {
       "metadata": {},
       "output_type": "display_data",
       "png": "[encoded data removed]",
       "text": [
        "<matplotlib.figure.Figure at 0x7f6439619690>"
       ]
      },
      {
       "metadata": {},
       "output_type": "display_data",
       "png": "[encoded data removed]",
       "text": [
        "<matplotlib.figure.Figure at 0x7f64394b39d0>"
       ]
      },
      {
       "metadata": {},
       "output_type": "display_data",
       "png": "[encoded data removed]",
       "text": [
        "<matplotlib.figure.Figure at 0x7f64394d3f10>"
       ]
      }
     ],
     "prompt_number": 9
    },
    {
     "cell_type": "markdown",
     "metadata": {},
     "source": [
      "Here we've looked at some random graphs and seen that the bound is actually quite loose. Can we improve it for these kind of random graphs?"
     ]
    }
   ],
   "metadata": {}
  }
 ]
}